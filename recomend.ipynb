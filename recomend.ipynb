{
 "cells": [
  {
   "cell_type": "code",
   "execution_count": 1,
   "outputs": [],
   "source": [
    "import pandas as pd\n",
    "import random\n",
    "from sklearn.neighbors import NearestNeighbors\n",
    "from sklearn.preprocessing import RobustScaler"
   ],
   "metadata": {
    "collapsed": false,
    "ExecuteTime": {
     "end_time": "2024-02-24T15:26:00.672073Z",
     "start_time": "2024-02-24T15:25:59.009079200Z"
    }
   },
   "id": "2493f5b824d58b4a"
  },
  {
   "cell_type": "code",
   "execution_count": 2,
   "id": "initial_id",
   "metadata": {
    "collapsed": true,
    "ExecuteTime": {
     "end_time": "2024-02-24T15:26:00.673076600Z",
     "start_time": "2024-02-24T15:26:00.608069400Z"
    }
   },
   "outputs": [],
   "source": [
    "s = \"\"\"INSERT INTO product (shop_id, title, description, price, type, wear_degree, sex, status, created_at, size, brand, color, material, season)\n",
    "VALUES (1, 'Модные джинсы', 'description', 999.0, 'JEANS', 'FIRST', 'M', 'IN_SALE', '2023-07-28', 'M', 'Lewis', 'Blue', 'Деним', 'SUMMER');\n",
    "\n",
    "INSERT INTO product (shop_id, title, description, price, type, wear_degree, sex, status, created_at, size, brand, color, material, season)\n",
    "VALUES (1, 'Армянская футболка', 'description', 1999.0, 'T_SHIRTS', 'SECOND', 'F', 'IN_SALE', '2023-07-28', 'S', 'Armani', 'Yellow', 'Хлопок', 'AUTUMN_SPRING');\n",
    "\n",
    "INSERT INTO product (shop_id, title, description, price, type, wear_degree, sex, status, created_at, size, brand, color, material, season)\n",
    "VALUES (1, 'Футболка Келвин Колян', 'description', 1599.0, 'T_SHIRTS', 'NEW', 'M', 'SOLD', '2023-01-28', 'XL', 'Calvin Klein', 'Black', 'Хлопок', 'SUMMER');\n",
    "\n",
    "INSERT INTO product (shop_id, title, description, price, type, wear_degree, sex, status, created_at, size, brand, color, material, season)\n",
    "VALUES (1, 'Пиджачок - дурачок', 'description', 6999.0, 'JACKETS', 'FIRST', 'M', 'CREATED', '2023-07-24', 'L', 'Tommy Hilfiger', 'Brown', 'Кожа', 'DEMI');\n",
    "\n",
    "INSERT INTO product (shop_id, title, description, price, type, wear_degree, sex, status, created_at, size, brand, color, material, season)\n",
    "VALUES (1, 'Бархатные тяги', 'description', 2500.0, 'SHOES', 'THIRD', 'F', 'IN_SALE', '2023-07-28', 'XS', 'Gucci', 'Black', 'Кожа', 'WINTER');\n",
    "\n",
    "INSERT INTO product (shop_id, title, description, price, type, wear_degree, sex, status, created_at, size, brand, color, material, season)\n",
    "VALUES (1, 'Серые шортики', 'description', 800.0, 'T_SHIRTS', 'NEW', 'M', 'CREATED', '2023-07-28', 'M', 'Henderson', 'Grey', 'Деним', 'SUMMER');\"\"\""
   ]
  },
  {
   "cell_type": "code",
   "execution_count": 3,
   "outputs": [
    {
     "data": {
      "text/plain": "Empty DataFrame\nColumns: [shop_id, title, description, price, type, wear_degree, sex, status, created_at, size, brand, color, material, season]\nIndex: []",
      "text/html": "<div>\n<style scoped>\n    .dataframe tbody tr th:only-of-type {\n        vertical-align: middle;\n    }\n\n    .dataframe tbody tr th {\n        vertical-align: top;\n    }\n\n    .dataframe thead th {\n        text-align: right;\n    }\n</style>\n<table border=\"1\" class=\"dataframe\">\n  <thead>\n    <tr style=\"text-align: right;\">\n      <th></th>\n      <th>shop_id</th>\n      <th>title</th>\n      <th>description</th>\n      <th>price</th>\n      <th>type</th>\n      <th>wear_degree</th>\n      <th>sex</th>\n      <th>status</th>\n      <th>created_at</th>\n      <th>size</th>\n      <th>brand</th>\n      <th>color</th>\n      <th>material</th>\n      <th>season</th>\n    </tr>\n  </thead>\n  <tbody>\n  </tbody>\n</table>\n</div>"
     },
     "execution_count": 3,
     "metadata": {},
     "output_type": "execute_result"
    }
   ],
   "source": [
    "df = pd.DataFrame(columns= ['shop_id', 'title', 'description', 'price', 'type', 'wear_degree', 'sex', 'status', 'created_at', 'size', 'brand', 'color', 'material', 'season'])\n",
    "df"
   ],
   "metadata": {
    "collapsed": false,
    "ExecuteTime": {
     "end_time": "2024-02-24T15:26:00.677077500Z",
     "start_time": "2024-02-24T15:26:00.622079200Z"
    }
   },
   "id": "884553c292a57f4b"
  },
  {
   "cell_type": "code",
   "execution_count": 4,
   "outputs": [
    {
     "data": {
      "text/plain": "   shop_id          title  description  price   type wear_degree sex   status  \\\n0        1  Модные джинсы  description  999.0  JEANS       FIRST   M  IN_SALE   \n\n   created_at size  brand color material  season  \n0  2023-07-28    M  Lewis  Blue    Деним  SUMMER  ",
      "text/html": "<div>\n<style scoped>\n    .dataframe tbody tr th:only-of-type {\n        vertical-align: middle;\n    }\n\n    .dataframe tbody tr th {\n        vertical-align: top;\n    }\n\n    .dataframe thead th {\n        text-align: right;\n    }\n</style>\n<table border=\"1\" class=\"dataframe\">\n  <thead>\n    <tr style=\"text-align: right;\">\n      <th></th>\n      <th>shop_id</th>\n      <th>title</th>\n      <th>description</th>\n      <th>price</th>\n      <th>type</th>\n      <th>wear_degree</th>\n      <th>sex</th>\n      <th>status</th>\n      <th>created_at</th>\n      <th>size</th>\n      <th>brand</th>\n      <th>color</th>\n      <th>material</th>\n      <th>season</th>\n    </tr>\n  </thead>\n  <tbody>\n    <tr>\n      <th>0</th>\n      <td>1</td>\n      <td>Модные джинсы</td>\n      <td>description</td>\n      <td>999.0</td>\n      <td>JEANS</td>\n      <td>FIRST</td>\n      <td>M</td>\n      <td>IN_SALE</td>\n      <td>2023-07-28</td>\n      <td>M</td>\n      <td>Lewis</td>\n      <td>Blue</td>\n      <td>Деним</td>\n      <td>SUMMER</td>\n    </tr>\n  </tbody>\n</table>\n</div>"
     },
     "execution_count": 4,
     "metadata": {},
     "output_type": "execute_result"
    }
   ],
   "source": [
    "df.loc[0] = [1, 'Модные джинсы', 'description', 999.0, 'JEANS', 'FIRST', 'M', 'IN_SALE', '2023-07-28', 'M', 'Lewis', 'Blue', 'Деним', 'SUMMER']\n",
    "df"
   ],
   "metadata": {
    "collapsed": false,
    "ExecuteTime": {
     "end_time": "2024-02-24T15:26:00.678074300Z",
     "start_time": "2024-02-24T15:26:00.655080400Z"
    }
   },
   "id": "e8d705e0682d066e"
  },
  {
   "cell_type": "code",
   "execution_count": 5,
   "outputs": [],
   "source": [
    "lis = [[1, 'Модные джинсы', 'description', 999.0, 'JEANS', 'FIRST', 'M', 'IN_SALE', '2023-07-28', 'M', 'Lewis', 'Blue', 'Деним', 'SUMMER'], [1, 'Армянская футболка', 'description', 1999.0, 'T_SHIRTS', 'SECOND', 'F', 'IN_SALE', '2023-07-28', 'S', 'Armani', 'Yellow', 'Хлопок', 'AUTUMN_SPRING'], [1, 'Футболка Келвин Колян', 'description', 1599.0, 'T_SHIRTS', 'NEW', 'M', 'SOLD', '2023-01-28', 'XL', 'Calvin Klein', 'Black', 'Хлопок', 'SUMMER'], [1, 'Пиджачок - дурачок', 'description', 6999.0, 'JACKETS', 'FIRST', 'M', 'CREATED', '2023-07-24', 'L', 'Tommy Hilfiger', 'Brown', 'Кожа', 'DEMI'], [1, 'Бархатные тяги', 'description', 2500.0, 'SHOES', 'THIRD', 'F', 'IN_SALE', '2023-07-28', 'XS', 'Gucci', 'Black', 'Кожа', 'WINTER'], [1, 'Серые шортики', 'description', 800.0, 'T_SHIRTS', 'NEW', 'M', 'CREATED', '2023-07-28', 'M', 'Henderson', 'Grey', 'Деним', 'SUMMER']]"
   ],
   "metadata": {
    "collapsed": false,
    "ExecuteTime": {
     "end_time": "2024-02-24T15:26:00.770071100Z",
     "start_time": "2024-02-24T15:26:00.673076600Z"
    }
   },
   "id": "5261bf8a06f4ae33"
  },
  {
   "cell_type": "code",
   "execution_count": 6,
   "outputs": [
    {
     "data": {
      "text/plain": "   shop_id                  title  description   price      type wear_degree  \\\n0        1          Модные джинсы  description   999.0     JEANS       FIRST   \n1        1     Армянская футболка  description  1999.0  T_SHIRTS      SECOND   \n2        1  Футболка Келвин Колян  description  1599.0  T_SHIRTS         NEW   \n3        1     Пиджачок - дурачок  description  6999.0   JACKETS       FIRST   \n4        1         Бархатные тяги  description  2500.0     SHOES       THIRD   \n5        1          Серые шортики  description   800.0  T_SHIRTS         NEW   \n\n  sex   status  created_at size           brand   color material  \\\n0   M  IN_SALE  2023-07-28    M           Lewis    Blue    Деним   \n1   F  IN_SALE  2023-07-28    S          Armani  Yellow   Хлопок   \n2   M     SOLD  2023-01-28   XL    Calvin Klein   Black   Хлопок   \n3   M  CREATED  2023-07-24    L  Tommy Hilfiger   Brown     Кожа   \n4   F  IN_SALE  2023-07-28   XS           Gucci   Black     Кожа   \n5   M  CREATED  2023-07-28    M       Henderson    Grey    Деним   \n\n          season  \n0         SUMMER  \n1  AUTUMN_SPRING  \n2         SUMMER  \n3           DEMI  \n4         WINTER  \n5         SUMMER  ",
      "text/html": "<div>\n<style scoped>\n    .dataframe tbody tr th:only-of-type {\n        vertical-align: middle;\n    }\n\n    .dataframe tbody tr th {\n        vertical-align: top;\n    }\n\n    .dataframe thead th {\n        text-align: right;\n    }\n</style>\n<table border=\"1\" class=\"dataframe\">\n  <thead>\n    <tr style=\"text-align: right;\">\n      <th></th>\n      <th>shop_id</th>\n      <th>title</th>\n      <th>description</th>\n      <th>price</th>\n      <th>type</th>\n      <th>wear_degree</th>\n      <th>sex</th>\n      <th>status</th>\n      <th>created_at</th>\n      <th>size</th>\n      <th>brand</th>\n      <th>color</th>\n      <th>material</th>\n      <th>season</th>\n    </tr>\n  </thead>\n  <tbody>\n    <tr>\n      <th>0</th>\n      <td>1</td>\n      <td>Модные джинсы</td>\n      <td>description</td>\n      <td>999.0</td>\n      <td>JEANS</td>\n      <td>FIRST</td>\n      <td>M</td>\n      <td>IN_SALE</td>\n      <td>2023-07-28</td>\n      <td>M</td>\n      <td>Lewis</td>\n      <td>Blue</td>\n      <td>Деним</td>\n      <td>SUMMER</td>\n    </tr>\n    <tr>\n      <th>1</th>\n      <td>1</td>\n      <td>Армянская футболка</td>\n      <td>description</td>\n      <td>1999.0</td>\n      <td>T_SHIRTS</td>\n      <td>SECOND</td>\n      <td>F</td>\n      <td>IN_SALE</td>\n      <td>2023-07-28</td>\n      <td>S</td>\n      <td>Armani</td>\n      <td>Yellow</td>\n      <td>Хлопок</td>\n      <td>AUTUMN_SPRING</td>\n    </tr>\n    <tr>\n      <th>2</th>\n      <td>1</td>\n      <td>Футболка Келвин Колян</td>\n      <td>description</td>\n      <td>1599.0</td>\n      <td>T_SHIRTS</td>\n      <td>NEW</td>\n      <td>M</td>\n      <td>SOLD</td>\n      <td>2023-01-28</td>\n      <td>XL</td>\n      <td>Calvin Klein</td>\n      <td>Black</td>\n      <td>Хлопок</td>\n      <td>SUMMER</td>\n    </tr>\n    <tr>\n      <th>3</th>\n      <td>1</td>\n      <td>Пиджачок - дурачок</td>\n      <td>description</td>\n      <td>6999.0</td>\n      <td>JACKETS</td>\n      <td>FIRST</td>\n      <td>M</td>\n      <td>CREATED</td>\n      <td>2023-07-24</td>\n      <td>L</td>\n      <td>Tommy Hilfiger</td>\n      <td>Brown</td>\n      <td>Кожа</td>\n      <td>DEMI</td>\n    </tr>\n    <tr>\n      <th>4</th>\n      <td>1</td>\n      <td>Бархатные тяги</td>\n      <td>description</td>\n      <td>2500.0</td>\n      <td>SHOES</td>\n      <td>THIRD</td>\n      <td>F</td>\n      <td>IN_SALE</td>\n      <td>2023-07-28</td>\n      <td>XS</td>\n      <td>Gucci</td>\n      <td>Black</td>\n      <td>Кожа</td>\n      <td>WINTER</td>\n    </tr>\n    <tr>\n      <th>5</th>\n      <td>1</td>\n      <td>Серые шортики</td>\n      <td>description</td>\n      <td>800.0</td>\n      <td>T_SHIRTS</td>\n      <td>NEW</td>\n      <td>M</td>\n      <td>CREATED</td>\n      <td>2023-07-28</td>\n      <td>M</td>\n      <td>Henderson</td>\n      <td>Grey</td>\n      <td>Деним</td>\n      <td>SUMMER</td>\n    </tr>\n  </tbody>\n</table>\n</div>"
     },
     "execution_count": 6,
     "metadata": {},
     "output_type": "execute_result"
    }
   ],
   "source": [
    "for i in range(6):\n",
    "    df.loc[i] = lis[i]\n",
    "df"
   ],
   "metadata": {
    "collapsed": false,
    "ExecuteTime": {
     "end_time": "2024-02-24T15:26:01.012074700Z",
     "start_time": "2024-02-24T15:26:00.707072Z"
    }
   },
   "id": "191a80a0c4bbde2b"
  },
  {
   "cell_type": "code",
   "execution_count": 7,
   "outputs": [],
   "source": [
    "for i in range(1, 100):\n",
    "    lis.append([random.randint(0,3), \"poher\", \"description\", float(random.randint(500, 15000)),random.choice([\"JEANS\", \"T_SHIRTS\", \"JACKETS\", \"SHOES\", \"SHIRTS\"]), random.choice([\"FIRST\", \"SECOND\", \"THIRD\", \"NEW\"]), random.choice([\"M\", \"F\"]), random.choice([\"IN_SALE\",\"SOLD\", \"CREATED\"]), \"2023-07-28\", random.choice([\"XS\",\"S\", \"M\", \"L\",\"XL\"]), random.choice([\"Lewis\", \"Armani\", \"Calvin Klein\", \"Tommy Hilfiger\", \"Gucci\", \"Henderson\"]), random.choice([\"Yellow\", \"Blue\", \"Brown\", \"Grey\", \"Black\", \"Red\", \"Green\"]), random.choice([\"Деним\", \"Хлопок\", \"Кожа\"]), random.choice([\"SUMMER\", \"AUTUMN_SPRING\", \"DEMI\", \"WINTER\"])])"
   ],
   "metadata": {
    "collapsed": false,
    "ExecuteTime": {
     "end_time": "2024-02-24T15:26:01.023068100Z",
     "start_time": "2024-02-24T15:26:00.720079500Z"
    }
   },
   "id": "ee403bf2fac6f2f0"
  },
  {
   "cell_type": "code",
   "execution_count": 8,
   "outputs": [
    {
     "data": {
      "text/plain": "     shop_id                  title  description    price      type  \\\n0          1          Модные джинсы  description    999.0     JEANS   \n1          1     Армянская футболка  description   1999.0  T_SHIRTS   \n2          1  Футболка Келвин Колян  description   1599.0  T_SHIRTS   \n3          1     Пиджачок - дурачок  description   6999.0   JACKETS   \n4          1         Бархатные тяги  description   2500.0     SHOES   \n..       ...                    ...          ...      ...       ...   \n100        0                  poher  description  11959.0     SHOES   \n101        2                  poher  description   1154.0   JACKETS   \n102        2                  poher  description   8614.0     SHOES   \n103        2                  poher  description    526.0    SHIRTS   \n104        1                  poher  description   6174.0   JACKETS   \n\n    wear_degree sex   status  created_at size           brand   color  \\\n0         FIRST   M  IN_SALE  2023-07-28    M           Lewis    Blue   \n1        SECOND   F  IN_SALE  2023-07-28    S          Armani  Yellow   \n2           NEW   M     SOLD  2023-01-28   XL    Calvin Klein   Black   \n3         FIRST   M  CREATED  2023-07-24    L  Tommy Hilfiger   Brown   \n4         THIRD   F  IN_SALE  2023-07-28   XS           Gucci   Black   \n..          ...  ..      ...         ...  ...             ...     ...   \n100       THIRD   M  IN_SALE  2023-07-28   XS           Gucci   Black   \n101       FIRST   M  IN_SALE  2023-07-28    S          Armani  Yellow   \n102       THIRD   F  IN_SALE  2023-07-28   XS           Gucci   Brown   \n103         NEW   F     SOLD  2023-07-28    M  Tommy Hilfiger  Yellow   \n104         NEW   F  IN_SALE  2023-07-28   XL  Tommy Hilfiger   Green   \n\n    material         season  \n0      Деним         SUMMER  \n1     Хлопок  AUTUMN_SPRING  \n2     Хлопок         SUMMER  \n3       Кожа           DEMI  \n4       Кожа         WINTER  \n..       ...            ...  \n100    Деним           DEMI  \n101     Кожа         WINTER  \n102     Кожа           DEMI  \n103   Хлопок         WINTER  \n104   Хлопок         WINTER  \n\n[105 rows x 14 columns]",
      "text/html": "<div>\n<style scoped>\n    .dataframe tbody tr th:only-of-type {\n        vertical-align: middle;\n    }\n\n    .dataframe tbody tr th {\n        vertical-align: top;\n    }\n\n    .dataframe thead th {\n        text-align: right;\n    }\n</style>\n<table border=\"1\" class=\"dataframe\">\n  <thead>\n    <tr style=\"text-align: right;\">\n      <th></th>\n      <th>shop_id</th>\n      <th>title</th>\n      <th>description</th>\n      <th>price</th>\n      <th>type</th>\n      <th>wear_degree</th>\n      <th>sex</th>\n      <th>status</th>\n      <th>created_at</th>\n      <th>size</th>\n      <th>brand</th>\n      <th>color</th>\n      <th>material</th>\n      <th>season</th>\n    </tr>\n  </thead>\n  <tbody>\n    <tr>\n      <th>0</th>\n      <td>1</td>\n      <td>Модные джинсы</td>\n      <td>description</td>\n      <td>999.0</td>\n      <td>JEANS</td>\n      <td>FIRST</td>\n      <td>M</td>\n      <td>IN_SALE</td>\n      <td>2023-07-28</td>\n      <td>M</td>\n      <td>Lewis</td>\n      <td>Blue</td>\n      <td>Деним</td>\n      <td>SUMMER</td>\n    </tr>\n    <tr>\n      <th>1</th>\n      <td>1</td>\n      <td>Армянская футболка</td>\n      <td>description</td>\n      <td>1999.0</td>\n      <td>T_SHIRTS</td>\n      <td>SECOND</td>\n      <td>F</td>\n      <td>IN_SALE</td>\n      <td>2023-07-28</td>\n      <td>S</td>\n      <td>Armani</td>\n      <td>Yellow</td>\n      <td>Хлопок</td>\n      <td>AUTUMN_SPRING</td>\n    </tr>\n    <tr>\n      <th>2</th>\n      <td>1</td>\n      <td>Футболка Келвин Колян</td>\n      <td>description</td>\n      <td>1599.0</td>\n      <td>T_SHIRTS</td>\n      <td>NEW</td>\n      <td>M</td>\n      <td>SOLD</td>\n      <td>2023-01-28</td>\n      <td>XL</td>\n      <td>Calvin Klein</td>\n      <td>Black</td>\n      <td>Хлопок</td>\n      <td>SUMMER</td>\n    </tr>\n    <tr>\n      <th>3</th>\n      <td>1</td>\n      <td>Пиджачок - дурачок</td>\n      <td>description</td>\n      <td>6999.0</td>\n      <td>JACKETS</td>\n      <td>FIRST</td>\n      <td>M</td>\n      <td>CREATED</td>\n      <td>2023-07-24</td>\n      <td>L</td>\n      <td>Tommy Hilfiger</td>\n      <td>Brown</td>\n      <td>Кожа</td>\n      <td>DEMI</td>\n    </tr>\n    <tr>\n      <th>4</th>\n      <td>1</td>\n      <td>Бархатные тяги</td>\n      <td>description</td>\n      <td>2500.0</td>\n      <td>SHOES</td>\n      <td>THIRD</td>\n      <td>F</td>\n      <td>IN_SALE</td>\n      <td>2023-07-28</td>\n      <td>XS</td>\n      <td>Gucci</td>\n      <td>Black</td>\n      <td>Кожа</td>\n      <td>WINTER</td>\n    </tr>\n    <tr>\n      <th>...</th>\n      <td>...</td>\n      <td>...</td>\n      <td>...</td>\n      <td>...</td>\n      <td>...</td>\n      <td>...</td>\n      <td>...</td>\n      <td>...</td>\n      <td>...</td>\n      <td>...</td>\n      <td>...</td>\n      <td>...</td>\n      <td>...</td>\n      <td>...</td>\n    </tr>\n    <tr>\n      <th>100</th>\n      <td>0</td>\n      <td>poher</td>\n      <td>description</td>\n      <td>11959.0</td>\n      <td>SHOES</td>\n      <td>THIRD</td>\n      <td>M</td>\n      <td>IN_SALE</td>\n      <td>2023-07-28</td>\n      <td>XS</td>\n      <td>Gucci</td>\n      <td>Black</td>\n      <td>Деним</td>\n      <td>DEMI</td>\n    </tr>\n    <tr>\n      <th>101</th>\n      <td>2</td>\n      <td>poher</td>\n      <td>description</td>\n      <td>1154.0</td>\n      <td>JACKETS</td>\n      <td>FIRST</td>\n      <td>M</td>\n      <td>IN_SALE</td>\n      <td>2023-07-28</td>\n      <td>S</td>\n      <td>Armani</td>\n      <td>Yellow</td>\n      <td>Кожа</td>\n      <td>WINTER</td>\n    </tr>\n    <tr>\n      <th>102</th>\n      <td>2</td>\n      <td>poher</td>\n      <td>description</td>\n      <td>8614.0</td>\n      <td>SHOES</td>\n      <td>THIRD</td>\n      <td>F</td>\n      <td>IN_SALE</td>\n      <td>2023-07-28</td>\n      <td>XS</td>\n      <td>Gucci</td>\n      <td>Brown</td>\n      <td>Кожа</td>\n      <td>DEMI</td>\n    </tr>\n    <tr>\n      <th>103</th>\n      <td>2</td>\n      <td>poher</td>\n      <td>description</td>\n      <td>526.0</td>\n      <td>SHIRTS</td>\n      <td>NEW</td>\n      <td>F</td>\n      <td>SOLD</td>\n      <td>2023-07-28</td>\n      <td>M</td>\n      <td>Tommy Hilfiger</td>\n      <td>Yellow</td>\n      <td>Хлопок</td>\n      <td>WINTER</td>\n    </tr>\n    <tr>\n      <th>104</th>\n      <td>1</td>\n      <td>poher</td>\n      <td>description</td>\n      <td>6174.0</td>\n      <td>JACKETS</td>\n      <td>NEW</td>\n      <td>F</td>\n      <td>IN_SALE</td>\n      <td>2023-07-28</td>\n      <td>XL</td>\n      <td>Tommy Hilfiger</td>\n      <td>Green</td>\n      <td>Хлопок</td>\n      <td>WINTER</td>\n    </tr>\n  </tbody>\n</table>\n<p>105 rows × 14 columns</p>\n</div>"
     },
     "execution_count": 8,
     "metadata": {},
     "output_type": "execute_result"
    }
   ],
   "source": [
    "for i in range(105):\n",
    "    df.loc[i] = lis[i]\n",
    "df"
   ],
   "metadata": {
    "collapsed": false,
    "ExecuteTime": {
     "end_time": "2024-02-24T15:26:01.247069600Z",
     "start_time": "2024-02-24T15:26:00.735073800Z"
    }
   },
   "id": "adf47302d65acdf5"
  },
  {
   "cell_type": "code",
   "execution_count": 9,
   "outputs": [
    {
     "data": {
      "text/plain": "array([[ 0.        , -0.82347723,  0.        , ...,  0.        ,\n         1.        ,  0.        ],\n       [ 0.        , -0.67563572,  0.        , ...,  0.        ,\n         0.        ,  0.        ],\n       [ 0.        , -0.73477232,  0.        , ...,  0.        ,\n         1.        ,  0.        ],\n       ...,\n       [ 0.5       ,  0.3023359 ,  0.        , ...,  1.        ,\n         0.        ,  0.        ],\n       [ 0.5       , -0.89340627,  0.        , ...,  0.        ,\n         0.        ,  1.        ],\n       [ 0.        , -0.0583974 ,  1.        , ...,  0.        ,\n         0.        ,  1.        ]])"
     },
     "execution_count": 9,
     "metadata": {},
     "output_type": "execute_result"
    }
   ],
   "source": [
    "df_train = df\n",
    "df_train = df_train.drop([\"title\" , \"description\", \"status\" ,\"created_at\"], axis= 1)\n",
    "df_train = pd.get_dummies(df_train)\n",
    "scaler = RobustScaler()\n",
    "df_train = scaler.fit_transform(df_train)\n",
    "df_train"
   ],
   "metadata": {
    "collapsed": false,
    "ExecuteTime": {
     "end_time": "2024-02-24T15:26:01.251072100Z",
     "start_time": "2024-02-24T15:26:00.975075400Z"
    }
   },
   "id": "587e22cac8590eb"
  },
  {
   "cell_type": "code",
   "execution_count": 10,
   "outputs": [
    {
     "data": {
      "text/plain": "NearestNeighbors(n_neighbors=6)",
      "text/html": "<style>#sk-container-id-1 {color: black;background-color: white;}#sk-container-id-1 pre{padding: 0;}#sk-container-id-1 div.sk-toggleable {background-color: white;}#sk-container-id-1 label.sk-toggleable__label {cursor: pointer;display: block;width: 100%;margin-bottom: 0;padding: 0.3em;box-sizing: border-box;text-align: center;}#sk-container-id-1 label.sk-toggleable__label-arrow:before {content: \"▸\";float: left;margin-right: 0.25em;color: #696969;}#sk-container-id-1 label.sk-toggleable__label-arrow:hover:before {color: black;}#sk-container-id-1 div.sk-estimator:hover label.sk-toggleable__label-arrow:before {color: black;}#sk-container-id-1 div.sk-toggleable__content {max-height: 0;max-width: 0;overflow: hidden;text-align: left;background-color: #f0f8ff;}#sk-container-id-1 div.sk-toggleable__content pre {margin: 0.2em;color: black;border-radius: 0.25em;background-color: #f0f8ff;}#sk-container-id-1 input.sk-toggleable__control:checked~div.sk-toggleable__content {max-height: 200px;max-width: 100%;overflow: auto;}#sk-container-id-1 input.sk-toggleable__control:checked~label.sk-toggleable__label-arrow:before {content: \"▾\";}#sk-container-id-1 div.sk-estimator input.sk-toggleable__control:checked~label.sk-toggleable__label {background-color: #d4ebff;}#sk-container-id-1 div.sk-label input.sk-toggleable__control:checked~label.sk-toggleable__label {background-color: #d4ebff;}#sk-container-id-1 input.sk-hidden--visually {border: 0;clip: rect(1px 1px 1px 1px);clip: rect(1px, 1px, 1px, 1px);height: 1px;margin: -1px;overflow: hidden;padding: 0;position: absolute;width: 1px;}#sk-container-id-1 div.sk-estimator {font-family: monospace;background-color: #f0f8ff;border: 1px dotted black;border-radius: 0.25em;box-sizing: border-box;margin-bottom: 0.5em;}#sk-container-id-1 div.sk-estimator:hover {background-color: #d4ebff;}#sk-container-id-1 div.sk-parallel-item::after {content: \"\";width: 100%;border-bottom: 1px solid gray;flex-grow: 1;}#sk-container-id-1 div.sk-label:hover label.sk-toggleable__label {background-color: #d4ebff;}#sk-container-id-1 div.sk-serial::before {content: \"\";position: absolute;border-left: 1px solid gray;box-sizing: border-box;top: 0;bottom: 0;left: 50%;z-index: 0;}#sk-container-id-1 div.sk-serial {display: flex;flex-direction: column;align-items: center;background-color: white;padding-right: 0.2em;padding-left: 0.2em;position: relative;}#sk-container-id-1 div.sk-item {position: relative;z-index: 1;}#sk-container-id-1 div.sk-parallel {display: flex;align-items: stretch;justify-content: center;background-color: white;position: relative;}#sk-container-id-1 div.sk-item::before, #sk-container-id-1 div.sk-parallel-item::before {content: \"\";position: absolute;border-left: 1px solid gray;box-sizing: border-box;top: 0;bottom: 0;left: 50%;z-index: -1;}#sk-container-id-1 div.sk-parallel-item {display: flex;flex-direction: column;z-index: 1;position: relative;background-color: white;}#sk-container-id-1 div.sk-parallel-item:first-child::after {align-self: flex-end;width: 50%;}#sk-container-id-1 div.sk-parallel-item:last-child::after {align-self: flex-start;width: 50%;}#sk-container-id-1 div.sk-parallel-item:only-child::after {width: 0;}#sk-container-id-1 div.sk-dashed-wrapped {border: 1px dashed gray;margin: 0 0.4em 0.5em 0.4em;box-sizing: border-box;padding-bottom: 0.4em;background-color: white;}#sk-container-id-1 div.sk-label label {font-family: monospace;font-weight: bold;display: inline-block;line-height: 1.2em;}#sk-container-id-1 div.sk-label-container {text-align: center;}#sk-container-id-1 div.sk-container {/* jupyter's `normalize.less` sets `[hidden] { display: none; }` but bootstrap.min.css set `[hidden] { display: none !important; }` so we also need the `!important` here to be able to override the default hidden behavior on the sphinx rendered scikit-learn.org. See: https://github.com/scikit-learn/scikit-learn/issues/21755 */display: inline-block !important;position: relative;}#sk-container-id-1 div.sk-text-repr-fallback {display: none;}</style><div id=\"sk-container-id-1\" class=\"sk-top-container\"><div class=\"sk-text-repr-fallback\"><pre>NearestNeighbors(n_neighbors=6)</pre><b>In a Jupyter environment, please rerun this cell to show the HTML representation or trust the notebook. <br />On GitHub, the HTML representation is unable to render, please try loading this page with nbviewer.org.</b></div><div class=\"sk-container\" hidden><div class=\"sk-item\"><div class=\"sk-estimator sk-toggleable\"><input class=\"sk-toggleable__control sk-hidden--visually\" id=\"sk-estimator-id-1\" type=\"checkbox\" checked><label for=\"sk-estimator-id-1\" class=\"sk-toggleable__label sk-toggleable__label-arrow\">NearestNeighbors</label><div class=\"sk-toggleable__content\"><pre>NearestNeighbors(n_neighbors=6)</pre></div></div></div></div></div>"
     },
     "execution_count": 10,
     "metadata": {},
     "output_type": "execute_result"
    }
   ],
   "source": [
    "model = NearestNeighbors(n_neighbors= 6)\n",
    "model.fit(df_train)\n"
   ],
   "metadata": {
    "collapsed": false,
    "ExecuteTime": {
     "end_time": "2024-02-19T17:39:44.429425700Z",
     "start_time": "2024-02-19T17:39:44.391435900Z"
    }
   },
   "id": "7974e9b7ab514b34"
  },
  {
   "cell_type": "code",
   "execution_count": 23,
   "outputs": [
    {
     "data": {
      "text/plain": "NearestNeighbors(algorithm='brute',\n                 metric=functools.partial(<function minkowski at 0x000001CCFFE9D000>, p=1, w=[1, 100000, 1, 1, 1, 1, 1, 1, 1, 1, 1, 1, 1, 1, 1, 1, 1, 1, 1, 1, 1, 1, 1, 1, 1, 1, 1, 1, 1, 1, 1, 1, 1, 1, 1, 1, 1, 1]),\n                 n_jobs=-1)",
      "text/html": "<style>#sk-container-id-6 {color: black;background-color: white;}#sk-container-id-6 pre{padding: 0;}#sk-container-id-6 div.sk-toggleable {background-color: white;}#sk-container-id-6 label.sk-toggleable__label {cursor: pointer;display: block;width: 100%;margin-bottom: 0;padding: 0.3em;box-sizing: border-box;text-align: center;}#sk-container-id-6 label.sk-toggleable__label-arrow:before {content: \"▸\";float: left;margin-right: 0.25em;color: #696969;}#sk-container-id-6 label.sk-toggleable__label-arrow:hover:before {color: black;}#sk-container-id-6 div.sk-estimator:hover label.sk-toggleable__label-arrow:before {color: black;}#sk-container-id-6 div.sk-toggleable__content {max-height: 0;max-width: 0;overflow: hidden;text-align: left;background-color: #f0f8ff;}#sk-container-id-6 div.sk-toggleable__content pre {margin: 0.2em;color: black;border-radius: 0.25em;background-color: #f0f8ff;}#sk-container-id-6 input.sk-toggleable__control:checked~div.sk-toggleable__content {max-height: 200px;max-width: 100%;overflow: auto;}#sk-container-id-6 input.sk-toggleable__control:checked~label.sk-toggleable__label-arrow:before {content: \"▾\";}#sk-container-id-6 div.sk-estimator input.sk-toggleable__control:checked~label.sk-toggleable__label {background-color: #d4ebff;}#sk-container-id-6 div.sk-label input.sk-toggleable__control:checked~label.sk-toggleable__label {background-color: #d4ebff;}#sk-container-id-6 input.sk-hidden--visually {border: 0;clip: rect(1px 1px 1px 1px);clip: rect(1px, 1px, 1px, 1px);height: 1px;margin: -1px;overflow: hidden;padding: 0;position: absolute;width: 1px;}#sk-container-id-6 div.sk-estimator {font-family: monospace;background-color: #f0f8ff;border: 1px dotted black;border-radius: 0.25em;box-sizing: border-box;margin-bottom: 0.5em;}#sk-container-id-6 div.sk-estimator:hover {background-color: #d4ebff;}#sk-container-id-6 div.sk-parallel-item::after {content: \"\";width: 100%;border-bottom: 1px solid gray;flex-grow: 1;}#sk-container-id-6 div.sk-label:hover label.sk-toggleable__label {background-color: #d4ebff;}#sk-container-id-6 div.sk-serial::before {content: \"\";position: absolute;border-left: 1px solid gray;box-sizing: border-box;top: 0;bottom: 0;left: 50%;z-index: 0;}#sk-container-id-6 div.sk-serial {display: flex;flex-direction: column;align-items: center;background-color: white;padding-right: 0.2em;padding-left: 0.2em;position: relative;}#sk-container-id-6 div.sk-item {position: relative;z-index: 1;}#sk-container-id-6 div.sk-parallel {display: flex;align-items: stretch;justify-content: center;background-color: white;position: relative;}#sk-container-id-6 div.sk-item::before, #sk-container-id-6 div.sk-parallel-item::before {content: \"\";position: absolute;border-left: 1px solid gray;box-sizing: border-box;top: 0;bottom: 0;left: 50%;z-index: -1;}#sk-container-id-6 div.sk-parallel-item {display: flex;flex-direction: column;z-index: 1;position: relative;background-color: white;}#sk-container-id-6 div.sk-parallel-item:first-child::after {align-self: flex-end;width: 50%;}#sk-container-id-6 div.sk-parallel-item:last-child::after {align-self: flex-start;width: 50%;}#sk-container-id-6 div.sk-parallel-item:only-child::after {width: 0;}#sk-container-id-6 div.sk-dashed-wrapped {border: 1px dashed gray;margin: 0 0.4em 0.5em 0.4em;box-sizing: border-box;padding-bottom: 0.4em;background-color: white;}#sk-container-id-6 div.sk-label label {font-family: monospace;font-weight: bold;display: inline-block;line-height: 1.2em;}#sk-container-id-6 div.sk-label-container {text-align: center;}#sk-container-id-6 div.sk-container {/* jupyter's `normalize.less` sets `[hidden] { display: none; }` but bootstrap.min.css set `[hidden] { display: none !important; }` so we also need the `!important` here to be able to override the default hidden behavior on the sphinx rendered scikit-learn.org. See: https://github.com/scikit-learn/scikit-learn/issues/21755 */display: inline-block !important;position: relative;}#sk-container-id-6 div.sk-text-repr-fallback {display: none;}</style><div id=\"sk-container-id-6\" class=\"sk-top-container\"><div class=\"sk-text-repr-fallback\"><pre>NearestNeighbors(algorithm=&#x27;brute&#x27;,\n                 metric=functools.partial(&lt;function minkowski at 0x000001CCFFE9D000&gt;, p=1, w=[1, 100000, 1, 1, 1, 1, 1, 1, 1, 1, 1, 1, 1, 1, 1, 1, 1, 1, 1, 1, 1, 1, 1, 1, 1, 1, 1, 1, 1, 1, 1, 1, 1, 1, 1, 1, 1, 1]),\n                 n_jobs=-1)</pre><b>In a Jupyter environment, please rerun this cell to show the HTML representation or trust the notebook. <br />On GitHub, the HTML representation is unable to render, please try loading this page with nbviewer.org.</b></div><div class=\"sk-container\" hidden><div class=\"sk-item\"><div class=\"sk-estimator sk-toggleable\"><input class=\"sk-toggleable__control sk-hidden--visually\" id=\"sk-estimator-id-6\" type=\"checkbox\" checked><label for=\"sk-estimator-id-6\" class=\"sk-toggleable__label sk-toggleable__label-arrow\">NearestNeighbors</label><div class=\"sk-toggleable__content\"><pre>NearestNeighbors(algorithm=&#x27;brute&#x27;,\n                 metric=functools.partial(&lt;function minkowski at 0x000001CCFFE9D000&gt;, p=1, w=[1, 100000, 1, 1, 1, 1, 1, 1, 1, 1, 1, 1, 1, 1, 1, 1, 1, 1, 1, 1, 1, 1, 1, 1, 1, 1, 1, 1, 1, 1, 1, 1, 1, 1, 1, 1, 1, 1]),\n                 n_jobs=-1)</pre></div></div></div></div></div>"
     },
     "execution_count": 23,
     "metadata": {},
     "output_type": "execute_result"
    }
   ],
   "source": [
    "from scipy.spatial.distance import minkowski\n",
    "\n",
    "weights = [1] * df_train.shape[1]\n",
    "weights[1] = 100000\n",
    "#weights[5] = 1000\n",
    "from functools import partial\n",
    "\n",
    "w_minkowski = partial(minkowski, p=1, w=weights)\n",
    "nbrs = NearestNeighbors(algorithm='brute', metric=w_minkowski, n_jobs=-1)\n",
    "nbrs.fit(df_train)"
   ],
   "metadata": {
    "collapsed": false,
    "ExecuteTime": {
     "end_time": "2024-02-24T15:31:55.468214200Z",
     "start_time": "2024-02-24T15:31:55.441236700Z"
    }
   },
   "id": "95a522a2dcbbdd61"
  },
  {
   "cell_type": "code",
   "execution_count": 15,
   "outputs": [
    {
     "data": {
      "text/plain": "    shop_id          title  description    price      type wear_degree sex  \\\n34        2          poher  description  12553.0  T_SHIRTS      SECOND   M   \n99        2          poher  description  14157.0     SHOES       THIRD   M   \n25        0          poher  description   4821.0  T_SHIRTS      SECOND   M   \n5         1  Серые шортики  description    800.0  T_SHIRTS         NEW   M   \n79        2          poher  description   9913.0   JACKETS       FIRST   M   \n60        3          poher  description  12827.0    SHIRTS      SECOND   M   \n30        3          poher  description  12232.0     JEANS       THIRD   M   \n35        1          poher  description  11057.0  T_SHIRTS       FIRST   F   \n19        3          poher  description   8150.0   JACKETS      SECOND   M   \n27        1          poher  description   8054.0    SHIRTS      SECOND   M   \n\n     status  created_at size      brand   color material         season  \n34     SOLD  2023-07-28    L  Henderson   Brown    Деним         SUMMER  \n99     SOLD  2023-07-28    L  Henderson   Brown   Хлопок         SUMMER  \n25  CREATED  2023-07-28    M     Armani   Brown    Деним  AUTUMN_SPRING  \n5   CREATED  2023-07-28    M  Henderson    Grey    Деним         SUMMER  \n79  CREATED  2023-07-28   XL  Henderson   Brown    Деним           DEMI  \n60  IN_SALE  2023-07-28    L     Armani   Brown   Хлопок           DEMI  \n30     SOLD  2023-07-28    L      Lewis  Yellow    Деним         SUMMER  \n35     SOLD  2023-07-28    L      Gucci  Yellow    Деним         SUMMER  \n19  CREATED  2023-07-28    L      Lewis   Brown     Кожа  AUTUMN_SPRING  \n27  CREATED  2023-07-28    S      Gucci     Red    Деним         SUMMER  ",
      "text/html": "<div>\n<style scoped>\n    .dataframe tbody tr th:only-of-type {\n        vertical-align: middle;\n    }\n\n    .dataframe tbody tr th {\n        vertical-align: top;\n    }\n\n    .dataframe thead th {\n        text-align: right;\n    }\n</style>\n<table border=\"1\" class=\"dataframe\">\n  <thead>\n    <tr style=\"text-align: right;\">\n      <th></th>\n      <th>shop_id</th>\n      <th>title</th>\n      <th>description</th>\n      <th>price</th>\n      <th>type</th>\n      <th>wear_degree</th>\n      <th>sex</th>\n      <th>status</th>\n      <th>created_at</th>\n      <th>size</th>\n      <th>brand</th>\n      <th>color</th>\n      <th>material</th>\n      <th>season</th>\n    </tr>\n  </thead>\n  <tbody>\n    <tr>\n      <th>34</th>\n      <td>2</td>\n      <td>poher</td>\n      <td>description</td>\n      <td>12553.0</td>\n      <td>T_SHIRTS</td>\n      <td>SECOND</td>\n      <td>M</td>\n      <td>SOLD</td>\n      <td>2023-07-28</td>\n      <td>L</td>\n      <td>Henderson</td>\n      <td>Brown</td>\n      <td>Деним</td>\n      <td>SUMMER</td>\n    </tr>\n    <tr>\n      <th>99</th>\n      <td>2</td>\n      <td>poher</td>\n      <td>description</td>\n      <td>14157.0</td>\n      <td>SHOES</td>\n      <td>THIRD</td>\n      <td>M</td>\n      <td>SOLD</td>\n      <td>2023-07-28</td>\n      <td>L</td>\n      <td>Henderson</td>\n      <td>Brown</td>\n      <td>Хлопок</td>\n      <td>SUMMER</td>\n    </tr>\n    <tr>\n      <th>25</th>\n      <td>0</td>\n      <td>poher</td>\n      <td>description</td>\n      <td>4821.0</td>\n      <td>T_SHIRTS</td>\n      <td>SECOND</td>\n      <td>M</td>\n      <td>CREATED</td>\n      <td>2023-07-28</td>\n      <td>M</td>\n      <td>Armani</td>\n      <td>Brown</td>\n      <td>Деним</td>\n      <td>AUTUMN_SPRING</td>\n    </tr>\n    <tr>\n      <th>5</th>\n      <td>1</td>\n      <td>Серые шортики</td>\n      <td>description</td>\n      <td>800.0</td>\n      <td>T_SHIRTS</td>\n      <td>NEW</td>\n      <td>M</td>\n      <td>CREATED</td>\n      <td>2023-07-28</td>\n      <td>M</td>\n      <td>Henderson</td>\n      <td>Grey</td>\n      <td>Деним</td>\n      <td>SUMMER</td>\n    </tr>\n    <tr>\n      <th>79</th>\n      <td>2</td>\n      <td>poher</td>\n      <td>description</td>\n      <td>9913.0</td>\n      <td>JACKETS</td>\n      <td>FIRST</td>\n      <td>M</td>\n      <td>CREATED</td>\n      <td>2023-07-28</td>\n      <td>XL</td>\n      <td>Henderson</td>\n      <td>Brown</td>\n      <td>Деним</td>\n      <td>DEMI</td>\n    </tr>\n    <tr>\n      <th>60</th>\n      <td>3</td>\n      <td>poher</td>\n      <td>description</td>\n      <td>12827.0</td>\n      <td>SHIRTS</td>\n      <td>SECOND</td>\n      <td>M</td>\n      <td>IN_SALE</td>\n      <td>2023-07-28</td>\n      <td>L</td>\n      <td>Armani</td>\n      <td>Brown</td>\n      <td>Хлопок</td>\n      <td>DEMI</td>\n    </tr>\n    <tr>\n      <th>30</th>\n      <td>3</td>\n      <td>poher</td>\n      <td>description</td>\n      <td>12232.0</td>\n      <td>JEANS</td>\n      <td>THIRD</td>\n      <td>M</td>\n      <td>SOLD</td>\n      <td>2023-07-28</td>\n      <td>L</td>\n      <td>Lewis</td>\n      <td>Yellow</td>\n      <td>Деним</td>\n      <td>SUMMER</td>\n    </tr>\n    <tr>\n      <th>35</th>\n      <td>1</td>\n      <td>poher</td>\n      <td>description</td>\n      <td>11057.0</td>\n      <td>T_SHIRTS</td>\n      <td>FIRST</td>\n      <td>F</td>\n      <td>SOLD</td>\n      <td>2023-07-28</td>\n      <td>L</td>\n      <td>Gucci</td>\n      <td>Yellow</td>\n      <td>Деним</td>\n      <td>SUMMER</td>\n    </tr>\n    <tr>\n      <th>19</th>\n      <td>3</td>\n      <td>poher</td>\n      <td>description</td>\n      <td>8150.0</td>\n      <td>JACKETS</td>\n      <td>SECOND</td>\n      <td>M</td>\n      <td>CREATED</td>\n      <td>2023-07-28</td>\n      <td>L</td>\n      <td>Lewis</td>\n      <td>Brown</td>\n      <td>Кожа</td>\n      <td>AUTUMN_SPRING</td>\n    </tr>\n    <tr>\n      <th>27</th>\n      <td>1</td>\n      <td>poher</td>\n      <td>description</td>\n      <td>8054.0</td>\n      <td>SHIRTS</td>\n      <td>SECOND</td>\n      <td>M</td>\n      <td>CREATED</td>\n      <td>2023-07-28</td>\n      <td>S</td>\n      <td>Gucci</td>\n      <td>Red</td>\n      <td>Деним</td>\n      <td>SUMMER</td>\n    </tr>\n  </tbody>\n</table>\n</div>"
     },
     "execution_count": 15,
     "metadata": {},
     "output_type": "execute_result"
    }
   ],
   "source": [
    "#arr = model.kneighbors([df_train.iloc[12]], n_neighbors= 5)[1]\n",
    "arr = nbrs.kneighbors([df_train[34]], n_neighbors= 10)[1]\n",
    "df.iloc[arr[0]]"
   ],
   "metadata": {
    "collapsed": false,
    "ExecuteTime": {
     "end_time": "2024-02-24T15:28:32.553387700Z",
     "start_time": "2024-02-24T15:28:32.506511900Z"
    }
   },
   "id": "aa770e6e15992cc8"
  },
  {
   "cell_type": "code",
   "execution_count": 24,
   "outputs": [
    {
     "data": {
      "text/plain": "     shop_id  title  description    price      type wear_degree sex   status  \\\n34         2  poher  description  12553.0  T_SHIRTS      SECOND   M     SOLD   \n8          1  poher  description  12590.0     JEANS      SECOND   F  IN_SALE   \n20         1  poher  description  12505.0     SHOES       FIRST   F  CREATED   \n93         3  poher  description  12751.0  T_SHIRTS      SECOND   F  CREATED   \n60         3  poher  description  12827.0    SHIRTS      SECOND   M  IN_SALE   \n42         3  poher  description  12245.0     SHOES      SECOND   F  IN_SALE   \n30         3  poher  description  12232.0     JEANS       THIRD   M     SOLD   \n47         3  poher  description  12137.0   JACKETS       THIRD   M     SOLD   \n67         3  poher  description  13045.0    SHIRTS      SECOND   F     SOLD   \n100        0  poher  description  11959.0     SHOES       THIRD   M  IN_SALE   \n\n     created_at size           brand   color material  season  \n34   2023-07-28    L       Henderson   Brown    Деним  SUMMER  \n8    2023-07-28   XS           Gucci    Blue   Хлопок  WINTER  \n20   2023-07-28    S           Gucci   Black     Кожа    DEMI  \n93   2023-07-28   XS    Calvin Klein    Grey     Кожа    DEMI  \n60   2023-07-28    L          Armani   Brown   Хлопок    DEMI  \n42   2023-07-28    S    Calvin Klein   Black   Хлопок    DEMI  \n30   2023-07-28    L           Lewis  Yellow    Деним  SUMMER  \n47   2023-07-28    S  Tommy Hilfiger  Yellow     Кожа    DEMI  \n67   2023-07-28   XL           Gucci    Blue    Деним  WINTER  \n100  2023-07-28   XS           Gucci   Black    Деним    DEMI  ",
      "text/html": "<div>\n<style scoped>\n    .dataframe tbody tr th:only-of-type {\n        vertical-align: middle;\n    }\n\n    .dataframe tbody tr th {\n        vertical-align: top;\n    }\n\n    .dataframe thead th {\n        text-align: right;\n    }\n</style>\n<table border=\"1\" class=\"dataframe\">\n  <thead>\n    <tr style=\"text-align: right;\">\n      <th></th>\n      <th>shop_id</th>\n      <th>title</th>\n      <th>description</th>\n      <th>price</th>\n      <th>type</th>\n      <th>wear_degree</th>\n      <th>sex</th>\n      <th>status</th>\n      <th>created_at</th>\n      <th>size</th>\n      <th>brand</th>\n      <th>color</th>\n      <th>material</th>\n      <th>season</th>\n    </tr>\n  </thead>\n  <tbody>\n    <tr>\n      <th>34</th>\n      <td>2</td>\n      <td>poher</td>\n      <td>description</td>\n      <td>12553.0</td>\n      <td>T_SHIRTS</td>\n      <td>SECOND</td>\n      <td>M</td>\n      <td>SOLD</td>\n      <td>2023-07-28</td>\n      <td>L</td>\n      <td>Henderson</td>\n      <td>Brown</td>\n      <td>Деним</td>\n      <td>SUMMER</td>\n    </tr>\n    <tr>\n      <th>8</th>\n      <td>1</td>\n      <td>poher</td>\n      <td>description</td>\n      <td>12590.0</td>\n      <td>JEANS</td>\n      <td>SECOND</td>\n      <td>F</td>\n      <td>IN_SALE</td>\n      <td>2023-07-28</td>\n      <td>XS</td>\n      <td>Gucci</td>\n      <td>Blue</td>\n      <td>Хлопок</td>\n      <td>WINTER</td>\n    </tr>\n    <tr>\n      <th>20</th>\n      <td>1</td>\n      <td>poher</td>\n      <td>description</td>\n      <td>12505.0</td>\n      <td>SHOES</td>\n      <td>FIRST</td>\n      <td>F</td>\n      <td>CREATED</td>\n      <td>2023-07-28</td>\n      <td>S</td>\n      <td>Gucci</td>\n      <td>Black</td>\n      <td>Кожа</td>\n      <td>DEMI</td>\n    </tr>\n    <tr>\n      <th>93</th>\n      <td>3</td>\n      <td>poher</td>\n      <td>description</td>\n      <td>12751.0</td>\n      <td>T_SHIRTS</td>\n      <td>SECOND</td>\n      <td>F</td>\n      <td>CREATED</td>\n      <td>2023-07-28</td>\n      <td>XS</td>\n      <td>Calvin Klein</td>\n      <td>Grey</td>\n      <td>Кожа</td>\n      <td>DEMI</td>\n    </tr>\n    <tr>\n      <th>60</th>\n      <td>3</td>\n      <td>poher</td>\n      <td>description</td>\n      <td>12827.0</td>\n      <td>SHIRTS</td>\n      <td>SECOND</td>\n      <td>M</td>\n      <td>IN_SALE</td>\n      <td>2023-07-28</td>\n      <td>L</td>\n      <td>Armani</td>\n      <td>Brown</td>\n      <td>Хлопок</td>\n      <td>DEMI</td>\n    </tr>\n    <tr>\n      <th>42</th>\n      <td>3</td>\n      <td>poher</td>\n      <td>description</td>\n      <td>12245.0</td>\n      <td>SHOES</td>\n      <td>SECOND</td>\n      <td>F</td>\n      <td>IN_SALE</td>\n      <td>2023-07-28</td>\n      <td>S</td>\n      <td>Calvin Klein</td>\n      <td>Black</td>\n      <td>Хлопок</td>\n      <td>DEMI</td>\n    </tr>\n    <tr>\n      <th>30</th>\n      <td>3</td>\n      <td>poher</td>\n      <td>description</td>\n      <td>12232.0</td>\n      <td>JEANS</td>\n      <td>THIRD</td>\n      <td>M</td>\n      <td>SOLD</td>\n      <td>2023-07-28</td>\n      <td>L</td>\n      <td>Lewis</td>\n      <td>Yellow</td>\n      <td>Деним</td>\n      <td>SUMMER</td>\n    </tr>\n    <tr>\n      <th>47</th>\n      <td>3</td>\n      <td>poher</td>\n      <td>description</td>\n      <td>12137.0</td>\n      <td>JACKETS</td>\n      <td>THIRD</td>\n      <td>M</td>\n      <td>SOLD</td>\n      <td>2023-07-28</td>\n      <td>S</td>\n      <td>Tommy Hilfiger</td>\n      <td>Yellow</td>\n      <td>Кожа</td>\n      <td>DEMI</td>\n    </tr>\n    <tr>\n      <th>67</th>\n      <td>3</td>\n      <td>poher</td>\n      <td>description</td>\n      <td>13045.0</td>\n      <td>SHIRTS</td>\n      <td>SECOND</td>\n      <td>F</td>\n      <td>SOLD</td>\n      <td>2023-07-28</td>\n      <td>XL</td>\n      <td>Gucci</td>\n      <td>Blue</td>\n      <td>Деним</td>\n      <td>WINTER</td>\n    </tr>\n    <tr>\n      <th>100</th>\n      <td>0</td>\n      <td>poher</td>\n      <td>description</td>\n      <td>11959.0</td>\n      <td>SHOES</td>\n      <td>THIRD</td>\n      <td>M</td>\n      <td>IN_SALE</td>\n      <td>2023-07-28</td>\n      <td>XS</td>\n      <td>Gucci</td>\n      <td>Black</td>\n      <td>Деним</td>\n      <td>DEMI</td>\n    </tr>\n  </tbody>\n</table>\n</div>"
     },
     "execution_count": 24,
     "metadata": {},
     "output_type": "execute_result"
    }
   ],
   "source": [
    "#arr = model.kneighbors([df_train.iloc[12]], n_neighbors= 5)[1]\n",
    "arr = nbrs.kneighbors([df_train[34]], n_neighbors= 10)[1]\n",
    "df.iloc[arr[0]]"
   ],
   "metadata": {
    "collapsed": false,
    "ExecuteTime": {
     "end_time": "2024-02-24T15:32:00.033854200Z",
     "start_time": "2024-02-24T15:31:59.972856700Z"
    }
   },
   "id": "bd0e221e898463fe"
  },
  {
   "cell_type": "code",
   "execution_count": 12,
   "outputs": [
    {
     "ename": "AttributeError",
     "evalue": "'numpy.ndarray' object has no attribute 'iloc'",
     "output_type": "error",
     "traceback": [
      "\u001B[1;31m---------------------------------------------------------------------------\u001B[0m",
      "\u001B[1;31mAttributeError\u001B[0m                            Traceback (most recent call last)",
      "Cell \u001B[1;32mIn [12], line 1\u001B[0m\n\u001B[1;32m----> 1\u001B[0m model\u001B[38;5;241m.\u001B[39mkneighbors_graph([\u001B[43mdf_train\u001B[49m\u001B[38;5;241;43m.\u001B[39;49m\u001B[43miloc\u001B[49m[\u001B[38;5;241m102\u001B[39m]], n_neighbors\u001B[38;5;241m=\u001B[39m \u001B[38;5;241m5\u001B[39m)\n",
      "\u001B[1;31mAttributeError\u001B[0m: 'numpy.ndarray' object has no attribute 'iloc'"
     ]
    }
   ],
   "source": [
    "model.kneighbors_graph([df_train.iloc[102]], n_neighbors= 5)"
   ],
   "metadata": {
    "collapsed": false,
    "ExecuteTime": {
     "start_time": "2024-02-19T17:39:44.528432500Z"
    }
   },
   "id": "5bf1b69e7d060da7"
  },
  {
   "cell_type": "code",
   "execution_count": null,
   "outputs": [],
   "source": [],
   "metadata": {
    "collapsed": false
   },
   "id": "eae5cdfdb5dfeae7"
  }
 ],
 "metadata": {
  "kernelspec": {
   "display_name": "Python 3",
   "language": "python",
   "name": "python3"
  },
  "language_info": {
   "codemirror_mode": {
    "name": "ipython",
    "version": 2
   },
   "file_extension": ".py",
   "mimetype": "text/x-python",
   "name": "python",
   "nbconvert_exporter": "python",
   "pygments_lexer": "ipython2",
   "version": "2.7.6"
  }
 },
 "nbformat": 4,
 "nbformat_minor": 5
}
