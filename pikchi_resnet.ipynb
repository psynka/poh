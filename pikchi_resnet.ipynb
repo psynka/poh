{
 "cells": [
  {
   "cell_type": "code",
   "execution_count": 5,
   "id": "initial_id",
   "metadata": {
    "collapsed": true,
    "ExecuteTime": {
     "end_time": "2024-02-24T14:26:49.488771100Z",
     "start_time": "2024-02-24T14:26:43.306741300Z"
    }
   },
   "outputs": [
    {
     "name": "stdout",
     "output_type": "stream",
     "text": [
      "Requirement already satisfied: gdown in c:\\users\\temic\\appdata\\local\\programs\\python\\python310\\lib\\site-packages (5.1.0)\n",
      "Requirement already satisfied: beautifulsoup4 in c:\\users\\temic\\appdata\\local\\packages\\pythonsoftwarefoundation.python.3.10_qbz5n2kfra8p0\\localcache\\local-packages\\python310\\site-packages (from gdown) (4.11.1)\n",
      "Requirement already satisfied: filelock in c:\\users\\temic\\appdata\\local\\packages\\pythonsoftwarefoundation.python.3.10_qbz5n2kfra8p0\\localcache\\local-packages\\python310\\site-packages (from gdown) (3.12.4)\n",
      "Requirement already satisfied: requests[socks] in c:\\users\\temic\\appdata\\local\\packages\\pythonsoftwarefoundation.python.3.10_qbz5n2kfra8p0\\localcache\\local-packages\\python310\\site-packages (from gdown) (2.28.1)\n",
      "Requirement already satisfied: tqdm in c:\\users\\temic\\appdata\\local\\packages\\pythonsoftwarefoundation.python.3.10_qbz5n2kfra8p0\\localcache\\local-packages\\python310\\site-packages (from gdown) (4.64.1)\n",
      "Requirement already satisfied: soupsieve>1.2 in c:\\users\\temic\\appdata\\local\\packages\\pythonsoftwarefoundation.python.3.10_qbz5n2kfra8p0\\localcache\\local-packages\\python310\\site-packages (from beautifulsoup4->gdown) (2.3.2.post1)\n",
      "Requirement already satisfied: charset-normalizer<3,>=2 in c:\\users\\temic\\appdata\\local\\packages\\pythonsoftwarefoundation.python.3.10_qbz5n2kfra8p0\\localcache\\local-packages\\python310\\site-packages (from requests[socks]->gdown) (2.1.1)\n",
      "Requirement already satisfied: idna<4,>=2.5 in c:\\users\\temic\\appdata\\local\\packages\\pythonsoftwarefoundation.python.3.10_qbz5n2kfra8p0\\localcache\\local-packages\\python310\\site-packages (from requests[socks]->gdown) (3.4)\n",
      "Requirement already satisfied: urllib3<1.27,>=1.21.1 in c:\\users\\temic\\appdata\\local\\packages\\pythonsoftwarefoundation.python.3.10_qbz5n2kfra8p0\\localcache\\local-packages\\python310\\site-packages (from requests[socks]->gdown) (1.26.12)\n",
      "Requirement already satisfied: certifi>=2017.4.17 in c:\\users\\temic\\appdata\\local\\packages\\pythonsoftwarefoundation.python.3.10_qbz5n2kfra8p0\\localcache\\local-packages\\python310\\site-packages (from requests[socks]->gdown) (2022.9.24)\n",
      "Requirement already satisfied: PySocks!=1.5.7,>=1.5.6 in c:\\users\\temic\\appdata\\local\\programs\\python\\python310\\lib\\site-packages (from requests[socks]->gdown) (1.7.1)\n",
      "Requirement already satisfied: colorama in c:\\users\\temic\\appdata\\local\\packages\\pythonsoftwarefoundation.python.3.10_qbz5n2kfra8p0\\localcache\\local-packages\\python310\\site-packages (from tqdm->gdown) (0.4.6)\n"
     ]
    },
    {
     "name": "stderr",
     "output_type": "stream",
     "text": [
      "\n",
      "[notice] A new release of pip is available: 23.2.1 -> 24.0\n",
      "[notice] To update, run: python.exe -m pip install --upgrade pip\n",
      "C:\\Users\\temic\\AppData\\Local\\Programs\\Python\\Python310\\lib\\site-packages\\gdown\\__main__.py:132: FutureWarning: Option `--id` was deprecated in version 4.3.1 and will be removed in 5.0. You don't need to pass it anymore to use a file ID.\n",
      "  warnings.warn(\n",
      "Failed to retrieve file url:\n",
      "\n",
      "\tCannot retrieve the public link of the file. You may need to change\n",
      "\tthe permission to 'Anyone with the link', or have had many accesses.\n",
      "\tCheck FAQ in https://github.com/wkentaro/gdown?tab=readme-ov-file#faq.\n",
      "\n",
      "You may still be able to access the file from the browser:\n",
      "\n",
      "\thttps://drive.google.com/uc?id=1IQ90jtnITrrcBWsFjF8jkFXF7LAxDqLF\n",
      "\n",
      "but Gdown can't. Please check connections and permissions.\n"
     ]
    }
   ],
   "source": [
    "!pip install gdown\n",
    "!gdown --id 1IQ90jtnITrrcBWsFjF8jkFXF7LAxDqLF"
   ]
  },
  {
   "cell_type": "code",
   "execution_count": 2,
   "outputs": [],
   "source": [
    "import matplotlib.pyplot as plt\n",
    "def show_images(images, figsize=(20,10), columns = 5):\n",
    "    plt.figure(figsize=figsize)\n",
    "    for i, image in enumerate(images):\n",
    "        plt.subplot(len(images) // columns + 1, columns, i + 1)\n",
    "        plt.imshow(image)\n",
    "        "
   ],
   "metadata": {
    "collapsed": false,
    "ExecuteTime": {
     "end_time": "2024-02-24T20:39:46.383601600Z",
     "start_time": "2024-02-24T20:39:45.992494300Z"
    }
   },
   "id": "d3214f4e3b1eb664"
  },
  {
   "cell_type": "code",
   "execution_count": 3,
   "outputs": [
    {
     "name": "stdout",
     "output_type": "stream",
     "text": [
      "number of images: 5762\n"
     ]
    }
   ],
   "source": [
    "import os\n",
    "IMAGES_PATH=\"./images\"\n",
    "file_names=os.listdir(IMAGES_PATH)\n",
    "print(f\"number of images: {len(file_names)}\")\n"
   ],
   "metadata": {
    "collapsed": false,
    "ExecuteTime": {
     "end_time": "2024-02-24T20:39:46.976908200Z",
     "start_time": "2024-02-24T20:39:46.948915800Z"
    }
   },
   "id": "3be9bdd34d8710b0"
  },
  {
   "cell_type": "code",
   "execution_count": 4,
   "outputs": [],
   "source": [
    "from keras.applications.resnet50 import ResNet50\n",
    "from keras.applications.resnet50 import preprocess_input\n",
    "import os\n",
    "from os import listdir\n",
    "from os.path import splitext\n",
    "import numpy as np\n",
    "from PIL import Image\n",
    "import pickle as pk\n",
    "from tqdm import tqdm\n",
    "def read_img_file(f):\n",
    "    img = Image.open(f)\n",
    "    if img.mode != 'RGB':\n",
    "        img = img.convert('RGB')\n",
    "    return img\n",
    "\n",
    "def resize_img_to_array(img, img_shape):\n",
    "    img_array = np.array(\n",
    "        img.resize(\n",
    "            img_shape,\n",
    "            Image.ANTIALIAS\n",
    "        )\n",
    "    )\n",
    "    return img_array\n",
    "\n",
    "def get_features(img):\n",
    "    img_width, img_height = 224, 224\n",
    "    np_img = resize_img_to_array(img, img_shape=(img_width, img_height))\n",
    "    expanded_img_array = np.expand_dims(np_img, axis=0)\n",
    "    preprocessed_img = preprocess_input(expanded_img_array)\n",
    "    X_conv = model.predict(preprocessed_img)\n",
    "    image_features=X_conv[0]\n",
    "    image_features /=  np.linalg.norm(image_features)\n",
    "    return image_features\n",
    "\n",
    "model = ResNet50(weights='imagenet', include_top=False,input_shape=(224, 224, 3),pooling='max')\n",
    "\n",
    "def generate_resnet_features():\n",
    "    all_image_features=[]\n",
    "    image_filenames=listdir(IMAGES_PATH)\n",
    "    image_ids=set(map(lambda el: splitext(el)[0],image_filenames))\n",
    "    try:\n",
    "        all_image_features=pk.load(open(\"resnet_image_features.pkl\", \"rb\"))\n",
    "    except (OSError, IOError) as e:\n",
    "        print(\"file_not_found\")\n",
    "\n",
    "    def exists_in_all_image_features(image_id):\n",
    "        for image in all_image_features:\n",
    "            if image['image_id'] == image_id:\n",
    "                # print(\"skipping \"+ str(image_id))\n",
    "                return True\n",
    "        return False\n",
    "\n",
    "    def exists_in_image_folder(image_id):\n",
    "        if image_id in image_ids:\n",
    "            return True\n",
    "        return False\n",
    "\n",
    "    def sync_resnet_image_features():\n",
    "        for_deletion=[]\n",
    "        for i in range(len(all_image_features)):\n",
    "            if not exists_in_image_folder(all_image_features[i]['image_id']):\n",
    "                print(\"deleting \"+ str(all_image_features[i]['image_id']))\n",
    "                for_deletion.append(i)\n",
    "        for i in reversed(for_deletion):\n",
    "            del all_image_features[i]\n",
    "\n",
    "    sync_resnet_image_features()\n",
    "    for image_filename in tqdm(image_filenames):\n",
    "        image_id=splitext(image_filename)[0]\n",
    "        if exists_in_all_image_features(image_id):\n",
    "            continue\n",
    "        img_arr = read_img_file(IMAGES_PATH+\"/\"+image_filename)\n",
    "        image_features=get_features(img_arr)\n",
    "        # print(image_filename)\n",
    "        # print(image_features)\n",
    "        all_image_features.append({'image_id':image_id,'features':image_features})\n",
    "    pk.dump(all_image_features, open(\"resnet_image_features.pkl\",\"wb\"))"
   ],
   "metadata": {
    "collapsed": false,
    "ExecuteTime": {
     "end_time": "2024-02-24T20:39:55.022250Z",
     "start_time": "2024-02-24T20:39:47.801916400Z"
    }
   },
   "id": "810707a9bbdfc183"
  },
  {
   "cell_type": "code",
   "execution_count": 5,
   "outputs": [
    {
     "ename": "MemoryError",
     "evalue": "",
     "output_type": "error",
     "traceback": [
      "\u001B[1;31m---------------------------------------------------------------------------\u001B[0m",
      "\u001B[1;31mMemoryError\u001B[0m                               Traceback (most recent call last)",
      "Cell \u001B[1;32mIn [5], line 1\u001B[0m\n\u001B[1;32m----> 1\u001B[0m \u001B[43mgenerate_resnet_features\u001B[49m\u001B[43m(\u001B[49m\u001B[43m)\u001B[49m\n",
      "Cell \u001B[1;32mIn [4], line 73\u001B[0m, in \u001B[0;36mgenerate_resnet_features\u001B[1;34m()\u001B[0m\n\u001B[0;32m     71\u001B[0m     \u001B[38;5;28;01mcontinue\u001B[39;00m\n\u001B[0;32m     72\u001B[0m img_arr \u001B[38;5;241m=\u001B[39m read_img_file(IMAGES_PATH\u001B[38;5;241m+\u001B[39m\u001B[38;5;124m\"\u001B[39m\u001B[38;5;124m/\u001B[39m\u001B[38;5;124m\"\u001B[39m\u001B[38;5;241m+\u001B[39mimage_filename)\n\u001B[1;32m---> 73\u001B[0m image_features\u001B[38;5;241m=\u001B[39m\u001B[43mget_features\u001B[49m\u001B[43m(\u001B[49m\u001B[43mimg_arr\u001B[49m\u001B[43m)\u001B[49m\n\u001B[0;32m     74\u001B[0m \u001B[38;5;66;03m# print(image_filename)\u001B[39;00m\n\u001B[0;32m     75\u001B[0m \u001B[38;5;66;03m# print(image_features)\u001B[39;00m\n\u001B[0;32m     76\u001B[0m all_image_features\u001B[38;5;241m.\u001B[39mappend({\u001B[38;5;124m'\u001B[39m\u001B[38;5;124mimage_id\u001B[39m\u001B[38;5;124m'\u001B[39m:image_id,\u001B[38;5;124m'\u001B[39m\u001B[38;5;124mfeatures\u001B[39m\u001B[38;5;124m'\u001B[39m:image_features})\n",
      "Cell \u001B[1;32mIn [4], line 27\u001B[0m, in \u001B[0;36mget_features\u001B[1;34m(img)\u001B[0m\n\u001B[0;32m     25\u001B[0m \u001B[38;5;28;01mdef\u001B[39;00m \u001B[38;5;21mget_features\u001B[39m(img):\n\u001B[0;32m     26\u001B[0m     img_width, img_height \u001B[38;5;241m=\u001B[39m \u001B[38;5;241m224\u001B[39m, \u001B[38;5;241m224\u001B[39m\n\u001B[1;32m---> 27\u001B[0m     np_img \u001B[38;5;241m=\u001B[39m \u001B[43mresize_img_to_array\u001B[49m\u001B[43m(\u001B[49m\u001B[43mimg\u001B[49m\u001B[43m,\u001B[49m\u001B[43m \u001B[49m\u001B[43mimg_shape\u001B[49m\u001B[38;5;241;43m=\u001B[39;49m\u001B[43m(\u001B[49m\u001B[43mimg_width\u001B[49m\u001B[43m,\u001B[49m\u001B[43m \u001B[49m\u001B[43mimg_height\u001B[49m\u001B[43m)\u001B[49m\u001B[43m)\u001B[49m\n\u001B[0;32m     28\u001B[0m     expanded_img_array \u001B[38;5;241m=\u001B[39m np\u001B[38;5;241m.\u001B[39mexpand_dims(np_img, axis\u001B[38;5;241m=\u001B[39m\u001B[38;5;241m0\u001B[39m)\n\u001B[0;32m     29\u001B[0m     preprocessed_img \u001B[38;5;241m=\u001B[39m preprocess_input(expanded_img_array)\n",
      "Cell \u001B[1;32mIn [4], line 18\u001B[0m, in \u001B[0;36mresize_img_to_array\u001B[1;34m(img, img_shape)\u001B[0m\n\u001B[0;32m     16\u001B[0m \u001B[38;5;28;01mdef\u001B[39;00m \u001B[38;5;21mresize_img_to_array\u001B[39m(img, img_shape):\n\u001B[0;32m     17\u001B[0m     img_array \u001B[38;5;241m=\u001B[39m np\u001B[38;5;241m.\u001B[39marray(\n\u001B[1;32m---> 18\u001B[0m         \u001B[43mimg\u001B[49m\u001B[38;5;241;43m.\u001B[39;49m\u001B[43mresize\u001B[49m\u001B[43m(\u001B[49m\n\u001B[0;32m     19\u001B[0m \u001B[43m            \u001B[49m\u001B[43mimg_shape\u001B[49m\u001B[43m,\u001B[49m\n\u001B[0;32m     20\u001B[0m \u001B[43m            \u001B[49m\u001B[43mImage\u001B[49m\u001B[38;5;241;43m.\u001B[39;49m\u001B[43mANTIALIAS\u001B[49m\n\u001B[0;32m     21\u001B[0m \u001B[43m        \u001B[49m\u001B[43m)\u001B[49m\n\u001B[0;32m     22\u001B[0m     )\n\u001B[0;32m     23\u001B[0m     \u001B[38;5;28;01mreturn\u001B[39;00m img_array\n",
      "File \u001B[1;32m~\\AppData\\Local\\Packages\\PythonSoftwareFoundation.Python.3.10_qbz5n2kfra8p0\\LocalCache\\local-packages\\Python310\\site-packages\\PIL\\Image.py:2079\u001B[0m, in \u001B[0;36mImage.resize\u001B[1;34m(self, size, resample, box, reducing_gap)\u001B[0m\n\u001B[0;32m   2075\u001B[0m     \u001B[38;5;28;01mraise\u001B[39;00m \u001B[38;5;167;01mValueError\u001B[39;00m(\u001B[38;5;124m\"\u001B[39m\u001B[38;5;124mreducing_gap must be 1.0 or greater\u001B[39m\u001B[38;5;124m\"\u001B[39m)\n\u001B[0;32m   2077\u001B[0m size \u001B[38;5;241m=\u001B[39m \u001B[38;5;28mtuple\u001B[39m(size)\n\u001B[1;32m-> 2079\u001B[0m \u001B[38;5;28;43mself\u001B[39;49m\u001B[38;5;241;43m.\u001B[39;49m\u001B[43mload\u001B[49m\u001B[43m(\u001B[49m\u001B[43m)\u001B[49m\n\u001B[0;32m   2080\u001B[0m \u001B[38;5;28;01mif\u001B[39;00m box \u001B[38;5;129;01mis\u001B[39;00m \u001B[38;5;28;01mNone\u001B[39;00m:\n\u001B[0;32m   2081\u001B[0m     box \u001B[38;5;241m=\u001B[39m (\u001B[38;5;241m0\u001B[39m, \u001B[38;5;241m0\u001B[39m) \u001B[38;5;241m+\u001B[39m \u001B[38;5;28mself\u001B[39m\u001B[38;5;241m.\u001B[39msize\n",
      "File \u001B[1;32m~\\AppData\\Local\\Packages\\PythonSoftwareFoundation.Python.3.10_qbz5n2kfra8p0\\LocalCache\\local-packages\\Python310\\site-packages\\PIL\\ImageFile.py:209\u001B[0m, in \u001B[0;36mImageFile.load\u001B[1;34m(self)\u001B[0m\n\u001B[0;32m    206\u001B[0m         \u001B[38;5;28;01mexcept\u001B[39;00m (\u001B[38;5;167;01mAttributeError\u001B[39;00m, \u001B[38;5;167;01mOSError\u001B[39;00m, \u001B[38;5;167;01mImportError\u001B[39;00m):\n\u001B[0;32m    207\u001B[0m             \u001B[38;5;28mself\u001B[39m\u001B[38;5;241m.\u001B[39mmap \u001B[38;5;241m=\u001B[39m \u001B[38;5;28;01mNone\u001B[39;00m\n\u001B[1;32m--> 209\u001B[0m \u001B[38;5;28;43mself\u001B[39;49m\u001B[38;5;241;43m.\u001B[39;49m\u001B[43mload_prepare\u001B[49m\u001B[43m(\u001B[49m\u001B[43m)\u001B[49m\n\u001B[0;32m    210\u001B[0m err_code \u001B[38;5;241m=\u001B[39m \u001B[38;5;241m-\u001B[39m\u001B[38;5;241m3\u001B[39m  \u001B[38;5;66;03m# initialize to unknown error\u001B[39;00m\n\u001B[0;32m    211\u001B[0m \u001B[38;5;28;01mif\u001B[39;00m \u001B[38;5;129;01mnot\u001B[39;00m \u001B[38;5;28mself\u001B[39m\u001B[38;5;241m.\u001B[39mmap:\n\u001B[0;32m    212\u001B[0m     \u001B[38;5;66;03m# sort tiles in file order\u001B[39;00m\n",
      "File \u001B[1;32m~\\AppData\\Local\\Packages\\PythonSoftwareFoundation.Python.3.10_qbz5n2kfra8p0\\LocalCache\\local-packages\\Python310\\site-packages\\PIL\\ImageFile.py:286\u001B[0m, in \u001B[0;36mImageFile.load_prepare\u001B[1;34m(self)\u001B[0m\n\u001B[0;32m    283\u001B[0m \u001B[38;5;28;01mdef\u001B[39;00m \u001B[38;5;21mload_prepare\u001B[39m(\u001B[38;5;28mself\u001B[39m):\n\u001B[0;32m    284\u001B[0m     \u001B[38;5;66;03m# create image memory if necessary\u001B[39;00m\n\u001B[0;32m    285\u001B[0m     \u001B[38;5;28;01mif\u001B[39;00m \u001B[38;5;129;01mnot\u001B[39;00m \u001B[38;5;28mself\u001B[39m\u001B[38;5;241m.\u001B[39mim \u001B[38;5;129;01mor\u001B[39;00m \u001B[38;5;28mself\u001B[39m\u001B[38;5;241m.\u001B[39mim\u001B[38;5;241m.\u001B[39mmode \u001B[38;5;241m!=\u001B[39m \u001B[38;5;28mself\u001B[39m\u001B[38;5;241m.\u001B[39mmode \u001B[38;5;129;01mor\u001B[39;00m \u001B[38;5;28mself\u001B[39m\u001B[38;5;241m.\u001B[39mim\u001B[38;5;241m.\u001B[39msize \u001B[38;5;241m!=\u001B[39m \u001B[38;5;28mself\u001B[39m\u001B[38;5;241m.\u001B[39msize:\n\u001B[1;32m--> 286\u001B[0m         \u001B[38;5;28mself\u001B[39m\u001B[38;5;241m.\u001B[39mim \u001B[38;5;241m=\u001B[39m \u001B[43mImage\u001B[49m\u001B[38;5;241;43m.\u001B[39;49m\u001B[43mcore\u001B[49m\u001B[38;5;241;43m.\u001B[39;49m\u001B[43mnew\u001B[49m\u001B[43m(\u001B[49m\u001B[38;5;28;43mself\u001B[39;49m\u001B[38;5;241;43m.\u001B[39;49m\u001B[43mmode\u001B[49m\u001B[43m,\u001B[49m\u001B[43m \u001B[49m\u001B[38;5;28;43mself\u001B[39;49m\u001B[38;5;241;43m.\u001B[39;49m\u001B[43msize\u001B[49m\u001B[43m)\u001B[49m\n\u001B[0;32m    287\u001B[0m     \u001B[38;5;66;03m# create palette (optional)\u001B[39;00m\n\u001B[0;32m    288\u001B[0m     \u001B[38;5;28;01mif\u001B[39;00m \u001B[38;5;28mself\u001B[39m\u001B[38;5;241m.\u001B[39mmode \u001B[38;5;241m==\u001B[39m \u001B[38;5;124m\"\u001B[39m\u001B[38;5;124mP\u001B[39m\u001B[38;5;124m\"\u001B[39m:\n",
      "\u001B[1;31mMemoryError\u001B[0m: "
     ]
    }
   ],
   "source": [
    "%%capture\n",
    "generate_resnet_features()"
   ],
   "metadata": {
    "collapsed": false,
    "ExecuteTime": {
     "end_time": "2024-02-24T20:55:34.493448800Z",
     "start_time": "2024-02-24T20:40:49.782292300Z"
    }
   },
   "id": "4a303aa244f3c0ad"
  },
  {
   "cell_type": "code",
   "execution_count": 1,
   "outputs": [
    {
     "ename": "NameError",
     "evalue": "name 'IMAGES_PATH' is not defined",
     "output_type": "error",
     "traceback": [
      "\u001B[1;31m---------------------------------------------------------------------------\u001B[0m",
      "\u001B[1;31mNameError\u001B[0m                                 Traceback (most recent call last)",
      "Cell \u001B[1;32mIn [1], line 3\u001B[0m\n\u001B[0;32m      1\u001B[0m \u001B[38;5;28;01mimport\u001B[39;00m \u001B[38;5;21;01mnumpy\u001B[39;00m \u001B[38;5;28;01mas\u001B[39;00m \u001B[38;5;21;01mnp\u001B[39;00m\n\u001B[0;32m      2\u001B[0m \u001B[38;5;28;01mfrom\u001B[39;00m \u001B[38;5;21;01mPIL\u001B[39;00m \u001B[38;5;28;01mimport\u001B[39;00m Image\n\u001B[1;32m----> 3\u001B[0m query_image_pillow\u001B[38;5;241m=\u001B[39mImage\u001B[38;5;241m.\u001B[39mopen(\u001B[38;5;124mf\u001B[39m\u001B[38;5;124m'\u001B[39m\u001B[38;5;132;01m{\u001B[39;00m\u001B[43mIMAGES_PATH\u001B[49m\u001B[38;5;132;01m}\u001B[39;00m\u001B[38;5;124m/0a3e62e3-fac5-4648-9da2-f6bc4074ee31.jpg\u001B[39m\u001B[38;5;124m'\u001B[39m)\u001B[38;5;241m.\u001B[39mconvert(\u001B[38;5;124m'\u001B[39m\u001B[38;5;124mRGB\u001B[39m\u001B[38;5;124m'\u001B[39m)\n\u001B[0;32m      4\u001B[0m query_image_features\u001B[38;5;241m=\u001B[39mget_features(query_image_pillow)\n\u001B[0;32m      5\u001B[0m show_images([np\u001B[38;5;241m.\u001B[39marray(query_image_pillow)])\n",
      "\u001B[1;31mNameError\u001B[0m: name 'IMAGES_PATH' is not defined"
     ]
    }
   ],
   "source": [
    "import numpy as np\n",
    "from PIL import Image\n",
    "query_image_pillow=Image.open(f'{IMAGES_PATH}/0a3e62e3-fac5-4648-9da2-f6bc4074ee31.jpg').convert('RGB')\n",
    "query_image_features=get_features(query_image_pillow)\n",
    "show_images([np.array(query_image_pillow)])\n",
    "print(query_image_features.shape)"
   ],
   "metadata": {
    "collapsed": false,
    "ExecuteTime": {
     "end_time": "2024-02-24T19:56:01.724100200Z",
     "start_time": "2024-02-24T19:56:01.404598200Z"
    }
   },
   "id": "7c7bec25a7b0c90d"
  },
  {
   "cell_type": "code",
   "execution_count": null,
   "outputs": [],
   "source": [
    "from sklearn.neighbors import NearestNeighbors\n",
    "from os import listdir\n",
    "import numpy as np\n",
    "import pickle as pk\n",
    "import json\n",
    "from pathlib import Path\n",
    "\n",
    "image_features=pk.load( open(\"resnet_image_features.pkl\", \"rb\"))\n",
    "features=[]\n",
    "for image in image_features:\n",
    "    features.append(np.array(image['features']))\n",
    "features=np.array(features)\n",
    "features=np.squeeze(features)\n",
    "\n",
    "path=\"./images\"\n",
    "knn = NearestNeighbors(n_neighbors=20,algorithm='brute',metric='euclidean')\n",
    "knn.fit(features)\n",
    "file_names=listdir(path)\n",
    "\n",
    "indices = knn.kneighbors([query_image_features], return_distance=False)\n",
    "found_images=[]\n",
    "for x in indices[0]:\n",
    "    found_images.append(np.array(Image.open(path+\"/\"+file_names[x])))\n",
    "show_images(np.array(found_images))"
   ],
   "metadata": {
    "collapsed": false
   },
   "id": "991e56824263d704"
  },
  {
   "cell_type": "code",
   "execution_count": null,
   "outputs": [],
   "source": [],
   "metadata": {
    "collapsed": false,
    "ExecuteTime": {
     "start_time": "2024-02-24T17:26:25.288559800Z"
    }
   },
   "id": "281fddbad763dceb"
  },
  {
   "cell_type": "code",
   "execution_count": null,
   "outputs": [],
   "source": [],
   "metadata": {
    "collapsed": false
   },
   "id": "c962d3ea47583d88"
  }
 ],
 "metadata": {
  "kernelspec": {
   "display_name": "Python 3",
   "language": "python",
   "name": "python3"
  },
  "language_info": {
   "codemirror_mode": {
    "name": "ipython",
    "version": 2
   },
   "file_extension": ".py",
   "mimetype": "text/x-python",
   "name": "python",
   "nbconvert_exporter": "python",
   "pygments_lexer": "ipython2",
   "version": "2.7.6"
  }
 },
 "nbformat": 4,
 "nbformat_minor": 5
}
